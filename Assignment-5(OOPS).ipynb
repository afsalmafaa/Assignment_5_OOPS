{
 "cells": [
  {
   "cell_type": "markdown",
   "id": "066b9f60",
   "metadata": {},
   "source": [
    "## Challenge 1: Square Numbers and Return Their Sum\n"
   ]
  },
  {
   "cell_type": "code",
   "execution_count": 16,
   "id": "8fbd4212",
   "metadata": {},
   "outputs": [
    {
     "name": "stdout",
     "output_type": "stream",
     "text": [
      "sqSum value: 35\n"
     ]
    }
   ],
   "source": [
    "class Point:\n",
    "    def __init__(self,x,y,z):\n",
    "        self.x = x\n",
    "        self.y = y\n",
    "        self.z = z\n",
    "        \n",
    "    def sqSum(self):\n",
    "        return self.x**2 + self.y**2 + self.z**2\n",
    "    \n",
    "# Sample properties \n",
    "x = 1\n",
    "y = 3 \n",
    "z = 5\n",
    "\n",
    "# Create a Point object \n",
    "point = Point(x,y,z)\n",
    "\n",
    "# Calculate and print the squared sum of the properties\n",
    "result = point.sqSum()\n",
    "print(\"sqSum value:\",result)"
   ]
  },
  {
   "cell_type": "markdown",
   "id": "dc50890d",
   "metadata": {},
   "source": [
    "## Challenge 2: Implement a Calculator Class"
   ]
  },
  {
   "cell_type": "code",
   "execution_count": 1,
   "id": "486618f4",
   "metadata": {},
   "outputs": [
    {
     "name": "stdout",
     "output_type": "stream",
     "text": [
      "Add value = 104\n",
      "Subtract value = 84\n",
      "Multiply value = 940\n",
      "Divide value = 9.4\n"
     ]
    }
   ],
   "source": [
    "class Calculator:\n",
    "    def __init__(self,num1,num2):\n",
    "        self.num1 = num1 \n",
    "        self.num2 = num2 \n",
    "        \n",
    "    def add(self):\n",
    "        return self.num1 + self.num2 \n",
    "    \n",
    "    def subtract(self):\n",
    "        return self.num2 - self.num1\n",
    "    \n",
    "    def multiply(self):\n",
    "        return self.num1 * self.num2\n",
    "    \n",
    "    def divide(self):\n",
    "        return self.num2 /self.num1\n",
    "\n",
    "# sample object\n",
    "obj = Calculator(10,94)\n",
    "\n",
    "# Calculate and print the sample object\n",
    "print(\"Add value =\",obj.add()) \n",
    "print(\"Subtract value =\",obj.subtract())\n",
    "print(\"Multiply value =\",obj.multiply())\n",
    "print(\"Divide value =\",obj.divide())"
   ]
  },
  {
   "cell_type": "markdown",
   "id": "9cbb05b5",
   "metadata": {},
   "source": [
    "## Challenge 3: Implement the Complete Student Class\n"
   ]
  },
  {
   "cell_type": "code",
   "execution_count": 8,
   "id": "ef5e44c1",
   "metadata": {},
   "outputs": [
    {
     "name": "stdout",
     "output_type": "stream",
     "text": [
      "Name: Afsal\n",
      "Roll Number: 7\n"
     ]
    }
   ],
   "source": [
    "class Student:\n",
    "    def __init__(self):\n",
    "        self.__name = None\n",
    "        self.__rollNumber = None\n",
    "        \n",
    "    def getName(self):\n",
    "        return self.__name\n",
    "    \n",
    "    def setName(self,name):\n",
    "        self.__name = name\n",
    "        \n",
    "    def getRollNumber(self):\n",
    "        return self.__rollNumber \n",
    "    \n",
    "    def setRollNumber(self,rollNumber):\n",
    "        self.__rollNumber = rollNumber\n",
    "        \n",
    "# create a student object\n",
    "student = Student()\n",
    "\n",
    "# Set properties using setter method\n",
    "student.setName(\"Afsal\")\n",
    "student.setRollNumber(7)\n",
    "\n",
    "# Get and print properties using getter methods\n",
    "print(\"Name:\", student.getName())\n",
    "print(\"Roll Number:\", student.getRollNumber())"
   ]
  },
  {
   "cell_type": "markdown",
   "id": "c041de35",
   "metadata": {},
   "source": [
    "## Challenge 4: Implement a Banking Account"
   ]
  },
  {
   "cell_type": "code",
   "execution_count": 1,
   "id": "f23e27c5",
   "metadata": {},
   "outputs": [
    {
     "name": "stdout",
     "output_type": "stream",
     "text": [
      "Account Title: Afsal\n",
      "Account Balance: 5000\n",
      "Savings Account Title: Mafaa\n",
      "Savings Account Balance: 5000\n",
      "Savings Account Interest Rate: 5\n"
     ]
    }
   ],
   "source": [
    "class Account:\n",
    "    def __init__(self,title,balance=0):\n",
    "        self.title = title\n",
    "        self.balance = balance \n",
    "        \n",
    "class SavingsAccount(Account):\n",
    "    def __init__(self,title,balance=0,interestRate=0):\n",
    "        super().__init__(title,balance)\n",
    "        self.interestRate = interestRate\n",
    "        \n",
    "# Create an Account object\n",
    "account = Account(\"Afsal\",5000)\n",
    "\n",
    "# Create an SavingsAccount object\n",
    "savings_account = SavingsAccount(\"Mafaa\",5000,5)\n",
    "\n",
    "# Display properties of Account object\n",
    "print(\"Account Title:\",account.title)\n",
    "print(\"Account Balance:\",account.balance)\n",
    "\n",
    "# Display properties of SavingsAccount object\n",
    "print(\"Savings Account Title:\",savings_account.title)\n",
    "print(\"Savings Account Balance:\",savings_account.balance)\n",
    "print(\"Savings Account Interest Rate:\",savings_account.interestRate)"
   ]
  },
  {
   "cell_type": "markdown",
   "id": "61db2bee",
   "metadata": {},
   "source": [
    "## Challenge 5: Handling a Bank Account\n"
   ]
  },
  {
   "cell_type": "code",
   "execution_count": 3,
   "id": "f2c1f5af",
   "metadata": {},
   "outputs": [
    {
     "name": "stdout",
     "output_type": "stream",
     "text": [
      "Savings Account Balance: 2000\n",
      "Deposit Current Balance: 2500\n",
      "Withdrawal Current Balance: 1500\n",
      "Interest Amount: 75.0\n"
     ]
    }
   ],
   "source": [
    "class Account:\n",
    "    def __init__(self,title,balance=0):\n",
    "        self.title = title\n",
    "        self.balance = balance\n",
    "        \n",
    "    def getBalance(self):\n",
    "        return self.balance\n",
    "    \n",
    "    def deposit(self,amount):\n",
    "        self.balance += amount\n",
    "        \n",
    "    def withdarawal(self,amount):\n",
    "        self.balance -= amount\n",
    "        \n",
    "class SavingsAccount(Account):\n",
    "    def __init__(self,title,balance=0,interestRate=0):\n",
    "        super().__init__(title,balance)\n",
    "        self.interestRate = interestRate\n",
    "        \n",
    "    def interestAmount(self):\n",
    "        return (self.interestRate * self.balance) / 100\n",
    "    \n",
    "# Create a Savings Account object\n",
    "savings_account = SavingsAccount(\"Afsal\",2000,5)\n",
    "print(\"Savings Account Balance:\",savings_account.getBalance())\n",
    "\n",
    "# Deposit and get balance\n",
    "savings_account.deposit(500)\n",
    "print(\"Deposit Current Balance:\",savings_account.getBalance())\n",
    "\n",
    "# Withdraw and get balance\n",
    "savings_account.withdarawal(1000)\n",
    "print(\"Withdrawal Current Balance:\",savings_account.getBalance())\n",
    "\n",
    "# Calculate and print interest amount\n",
    "interest_amount = savings_account.interestAmount()\n",
    "print(\"Interest Amount:\",interest_amount)"
   ]
  }
 ],
 "metadata": {
  "kernelspec": {
   "display_name": "Python 3 (ipykernel)",
   "language": "python",
   "name": "python3"
  },
  "language_info": {
   "codemirror_mode": {
    "name": "ipython",
    "version": 3
   },
   "file_extension": ".py",
   "mimetype": "text/x-python",
   "name": "python",
   "nbconvert_exporter": "python",
   "pygments_lexer": "ipython3",
   "version": "3.10.9"
  }
 },
 "nbformat": 4,
 "nbformat_minor": 5
}
